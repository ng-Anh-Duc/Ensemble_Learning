{
  "nbformat": 4,
  "nbformat_minor": 0,
  "metadata": {
    "colab": {
      "provenance": []
    },
    "kernelspec": {
      "name": "python3",
      "display_name": "Python 3"
    },
    "language_info": {
      "name": "python"
    }
  },
  "cells": [
    {
      "cell_type": "code",
      "source": [
        "import numpy as np\n",
        "from sklearn.metrics import accuracy_score"
      ],
      "metadata": {
        "id": "1mlVHGIXG866"
      },
      "execution_count": 1,
      "outputs": []
    },
    {
      "cell_type": "code",
      "source": [
        "from sklearn.base import clone\n",
        "from collections import Counter\n",
        "\n",
        "class EnsembleBagging:\n",
        "  def __init__(self, model, model_num=10, model_type = 'Classification'):\n",
        "    self.model = model\n",
        "    self.model_num = model_num\n",
        "    self.model_type = model_type\n",
        "    self.models = []\n",
        "\n",
        "  # def model_type(self, model_type):\n",
        "  #   if model_type != 'Classification' or self.model_type != 'Regression':\n",
        "  #     raise ValueError('model_type must be \"Classification\" or \"Regression\"')\n",
        "\n",
        "  @staticmethod\n",
        "  def reSample(X, y):\n",
        "      n_rows, n_cols = X.shape\n",
        "      samples = np.random.choice(a=n_rows, size=n_rows, replace=True)\n",
        "      return X[samples], y[samples]\n",
        "\n",
        "  def fit(self, X, y):\n",
        "    for i in range(self.model_num):\n",
        "      # Resample for X (rows, features) using bootstraped technique\n",
        "      X_sample, y_sample = self.reSample(X, y)\n",
        "      classifier = clone(self.model)\n",
        "      classifier.fit(X_sample, y_sample)\n",
        "      self.models.append(classifier)\n",
        "\n",
        "  def predict(self, X):\n",
        "    y_preds = np.array([model.predict(X) for model in self.models]).T\n",
        "    if self.model_type == 'classification':\n",
        "      major_votes = []\n",
        "      for y in y_preds:\n",
        "        major_votes.append(np.bincount(y).argmax())\n",
        "    else:\n",
        "      return np.mean(y_preds, axis=1)\n",
        "    return np.array(major_votes)"
      ],
      "metadata": {
        "id": "0lKPv_lfHMCx"
      },
      "execution_count": 39,
      "outputs": []
    },
    {
      "cell_type": "code",
      "source": [
        "from sklearn.datasets import load_iris\n",
        "from sklearn.model_selection import train_test_split\n",
        "from sklearn.tree import DecisionTreeClassifier\n",
        "\n",
        "dataset = load_iris()\n",
        "X = dataset.data\n",
        "y = dataset.target\n",
        "X[:5,:]\n",
        "\n",
        "X_train, X_test, y_train, y_test = train_test_split(X, y, test_size=0.2)\n",
        "classifier = EnsembleBagging(model=DecisionTreeClassifier(min_samples_split=2, max_depth=5), model_num=5, model_type='classification')\n",
        "classifier.fit(X_train, y_train)"
      ],
      "metadata": {
        "id": "zgRXIPkwNxkz"
      },
      "execution_count": 46,
      "outputs": []
    },
    {
      "cell_type": "code",
      "source": [
        "print(y_test)\n",
        "preds = classifier.predict(X_test)\n",
        "preds"
      ],
      "metadata": {
        "colab": {
          "base_uri": "https://localhost:8080/"
        },
        "id": "9IoHJ8VtUnXG",
        "outputId": "beacdf9a-83f8-4c41-b6dc-72450af9d583"
      },
      "execution_count": 47,
      "outputs": [
        {
          "output_type": "stream",
          "name": "stdout",
          "text": [
            "[2 1 1 0 2 2 1 2 0 0 2 2 2 0 0 0 1 1 0 2 2 0 1 0 2 2 2 0 2 1]\n"
          ]
        },
        {
          "output_type": "execute_result",
          "data": {
            "text/plain": [
              "array([2, 1, 1, 0, 2, 2, 1, 2, 0, 0, 2, 2, 2, 0, 0, 0, 1, 1, 0, 2, 2, 0,\n",
              "       1, 0, 2, 2, 2, 0, 2, 1])"
            ]
          },
          "metadata": {},
          "execution_count": 47
        }
      ]
    },
    {
      "cell_type": "code",
      "source": [
        "accuracy_score(y_test, preds)"
      ],
      "metadata": {
        "colab": {
          "base_uri": "https://localhost:8080/"
        },
        "id": "63SGcVfxyuZs",
        "outputId": "fe0d7bee-f621-44a4-9a21-a7e7573778f9"
      },
      "execution_count": 48,
      "outputs": [
        {
          "output_type": "execute_result",
          "data": {
            "text/plain": [
              "1.0"
            ]
          },
          "metadata": {},
          "execution_count": 48
        }
      ]
    }
  ]
}